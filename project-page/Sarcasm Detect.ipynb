{
 "cells": [
  {
   "cell_type": "code",
   "execution_count": 1,
   "id": "ff589d91",
   "metadata": {},
   "outputs": [],
   "source": [
    "import tensorflow as tf\n",
    "import numpy as np \n",
    "import pandas as pd \n",
    "import seaborn as sns\n",
    "import matplotlib.pyplot as plt\n",
    "\n",
    "from tensorflow.keras.preprocessing.text import Tokenizer\n",
    "from tensorflow.keras.preprocessing.sequence import pad_sequences"
   ]
  },
  {
   "cell_type": "code",
   "execution_count": 10,
   "id": "794dfc1a",
   "metadata": {},
   "outputs": [
    {
     "data": {
      "text/html": [
       "<div>\n",
       "<style scoped>\n",
       "    .dataframe tbody tr th:only-of-type {\n",
       "        vertical-align: middle;\n",
       "    }\n",
       "\n",
       "    .dataframe tbody tr th {\n",
       "        vertical-align: top;\n",
       "    }\n",
       "\n",
       "    .dataframe thead th {\n",
       "        text-align: right;\n",
       "    }\n",
       "</style>\n",
       "<table border=\"1\" class=\"dataframe\">\n",
       "  <thead>\n",
       "    <tr style=\"text-align: right;\">\n",
       "      <th></th>\n",
       "      <th>is_sarcastic</th>\n",
       "      <th>headline</th>\n",
       "      <th>article_link</th>\n",
       "    </tr>\n",
       "  </thead>\n",
       "  <tbody>\n",
       "    <tr>\n",
       "      <th>0</th>\n",
       "      <td>1</td>\n",
       "      <td>thirtysomething scientists unveil doomsday clo...</td>\n",
       "      <td>https://www.theonion.com/thirtysomething-scien...</td>\n",
       "    </tr>\n",
       "    <tr>\n",
       "      <th>1</th>\n",
       "      <td>0</td>\n",
       "      <td>dem rep. totally nails why congress is falling...</td>\n",
       "      <td>https://www.huffingtonpost.com/entry/donna-edw...</td>\n",
       "    </tr>\n",
       "    <tr>\n",
       "      <th>2</th>\n",
       "      <td>0</td>\n",
       "      <td>eat your veggies: 9 deliciously different recipes</td>\n",
       "      <td>https://www.huffingtonpost.com/entry/eat-your-...</td>\n",
       "    </tr>\n",
       "    <tr>\n",
       "      <th>3</th>\n",
       "      <td>1</td>\n",
       "      <td>inclement weather prevents liar from getting t...</td>\n",
       "      <td>https://local.theonion.com/inclement-weather-p...</td>\n",
       "    </tr>\n",
       "    <tr>\n",
       "      <th>4</th>\n",
       "      <td>1</td>\n",
       "      <td>mother comes pretty close to using word 'strea...</td>\n",
       "      <td>https://www.theonion.com/mother-comes-pretty-c...</td>\n",
       "    </tr>\n",
       "  </tbody>\n",
       "</table>\n",
       "</div>"
      ],
      "text/plain": [
       "   is_sarcastic                                           headline  \\\n",
       "0             1  thirtysomething scientists unveil doomsday clo...   \n",
       "1             0  dem rep. totally nails why congress is falling...   \n",
       "2             0  eat your veggies: 9 deliciously different recipes   \n",
       "3             1  inclement weather prevents liar from getting t...   \n",
       "4             1  mother comes pretty close to using word 'strea...   \n",
       "\n",
       "                                        article_link  \n",
       "0  https://www.theonion.com/thirtysomething-scien...  \n",
       "1  https://www.huffingtonpost.com/entry/donna-edw...  \n",
       "2  https://www.huffingtonpost.com/entry/eat-your-...  \n",
       "3  https://local.theonion.com/inclement-weather-p...  \n",
       "4  https://www.theonion.com/mother-comes-pretty-c...  "
      ]
     },
     "execution_count": 10,
     "metadata": {},
     "output_type": "execute_result"
    }
   ],
   "source": [
    "# Code to explore the sarcasm data set\n",
    "# A value of 1 indicates that the article is sarcastic\n",
    "# A value of 0 indicates that the article isn't sarcastic\n",
    "\n",
    "df = pd.read_json('Z:\\MIT FutureMakers\\Week 2\\Sarcasm_Data\\Sarcasm_Headlines_Dataset_v2.json', lines=True)\n",
    "df.head()"
   ]
  },
  {
   "cell_type": "code",
   "execution_count": 11,
   "id": "576c643d",
   "metadata": {},
   "outputs": [
    {
     "data": {
      "text/plain": [
       "<bound method DataFrame.info of        is_sarcastic                                           headline  \\\n",
       "0                 1  thirtysomething scientists unveil doomsday clo...   \n",
       "1                 0  dem rep. totally nails why congress is falling...   \n",
       "2                 0  eat your veggies: 9 deliciously different recipes   \n",
       "3                 1  inclement weather prevents liar from getting t...   \n",
       "4                 1  mother comes pretty close to using word 'strea...   \n",
       "...             ...                                                ...   \n",
       "28614             1       jews to celebrate rosh hashasha or something   \n",
       "28615             1  internal affairs investigator disappointed con...   \n",
       "28616             0  the most beautiful acceptance speech this week...   \n",
       "28617             1  mars probe destroyed by orbiting spielberg-gat...   \n",
       "28618             1                 dad clarifies this not a food stop   \n",
       "\n",
       "                                            article_link  \n",
       "0      https://www.theonion.com/thirtysomething-scien...  \n",
       "1      https://www.huffingtonpost.com/entry/donna-edw...  \n",
       "2      https://www.huffingtonpost.com/entry/eat-your-...  \n",
       "3      https://local.theonion.com/inclement-weather-p...  \n",
       "4      https://www.theonion.com/mother-comes-pretty-c...  \n",
       "...                                                  ...  \n",
       "28614  https://www.theonion.com/jews-to-celebrate-ros...  \n",
       "28615  https://local.theonion.com/internal-affairs-in...  \n",
       "28616  https://www.huffingtonpost.com/entry/andrew-ah...  \n",
       "28617  https://www.theonion.com/mars-probe-destroyed-...  \n",
       "28618  https://www.theonion.com/dad-clarifies-this-no...  \n",
       "\n",
       "[28619 rows x 3 columns]>"
      ]
     },
     "execution_count": 11,
     "metadata": {},
     "output_type": "execute_result"
    }
   ],
   "source": [
    "df.info"
   ]
  },
  {
   "cell_type": "code",
   "execution_count": 13,
   "id": "6801b823",
   "metadata": {},
   "outputs": [],
   "source": [
    "sentences = df['headline']\n",
    "labels = df['is_sarcastic']"
   ]
  },
  {
   "cell_type": "code",
   "execution_count": 14,
   "id": "34fbaecf",
   "metadata": {},
   "outputs": [
    {
     "name": "stderr",
     "output_type": "stream",
     "text": [
      "c:\\users\\jackt\\appdata\\local\\programs\\python\\python39\\lib\\site-packages\\seaborn\\_decorators.py:36: FutureWarning: Pass the following variable as a keyword arg: x. From version 0.12, the only valid positional argument will be `data`, and passing other arguments without an explicit keyword will result in an error or misinterpretation.\n",
      "  warnings.warn(\n"
     ]
    },
    {
     "data": {
      "text/plain": [
       "<AxesSubplot:xlabel='is_sarcastic', ylabel='count'>"
      ]
     },
     "execution_count": 14,
     "metadata": {},
     "output_type": "execute_result"
    },
    {
     "data": {
      "image/png": "[encoded data removed]",
      "text/plain": [
       "<Figure size 720x432 with 1 Axes>"
      ]
     },
     "metadata": {},
     "output_type": "display_data"
    }
   ],
   "source": [
    "# Plots a 10x6 figure which counts the number of sarcastic articles\n",
    "# and non-sarcastic articles in the dataset\n",
    "\n",
    "plt.figure(figsize=(10,6))\n",
    "sns.set(style=\"darkgrid\")\n",
    "sns.countplot(labels)"
   ]
  },
  {
   "cell_type": "code",
   "execution_count": 15,
   "id": "eb3da29a",
   "metadata": {},
   "outputs": [
    {
     "name": "stderr",
     "output_type": "stream",
     "text": [
      "c:\\users\\jackt\\appdata\\local\\programs\\python\\python39\\lib\\site-packages\\seaborn\\distributions.py:2557: FutureWarning: `distplot` is a deprecated function and will be removed in a future version. Please adapt your code to use either `displot` (a figure-level function with similar flexibility) or `kdeplot` (an axes-level function for kernel density plots).\n",
      "  warnings.warn(msg, FutureWarning)\n"
     ]
    },
    {
     "data": {
      "text/plain": [
       "[Text(0.5, 0, 'Sentence Lengths')]"
      ]
     },
     "execution_count": 15,
     "metadata": {},
     "output_type": "execute_result"
    },
    {
     "data": {
      "image/png": "[encoded data removed]",
      "text/plain": [
       "<Figure size 1080x432 with 1 Axes>"
      ]
     },
     "metadata": {},
     "output_type": "display_data"
    }
   ],
   "source": [
    "# Check sentence lengths\n",
    "sentences_lengths = sentences.apply(lambda x: len(x))\n",
    "\n",
    "plt.figure(figsize=(15,6))\n",
    "plt.xlim(0, 150)\n",
    "\n",
    "ax = sns.distplot(sentences_lengths, hist=False, color=\"r\")\n",
    "ax.set(xlabel='Sentence Lengths')"
   ]
  },
  {
   "cell_type": "code",
   "execution_count": 17,
   "id": "09459d83",
   "metadata": {},
   "outputs": [
    {
     "name": "stdout",
     "output_type": "stream",
     "text": [
      "(22895,)\n",
      "(5724,)\n",
      "(22895,)\n",
      "(5724,)\n"
     ]
    }
   ],
   "source": [
    "# Splits sentences and labels array into random training (train) and validation (test) subsets\n",
    "# Total articles = 28618\n",
    "# Validation data set = 28618*0.2 = 5724 articles\n",
    "\n",
    "from sklearn.model_selection import train_test_split\n",
    "\n",
    "train_sentences, val_sentences, train_labels, val_labels = train_test_split(sentences, labels, test_size=0.2, random_state=0)\n",
    "\n",
    "print(train_sentences.shape)\n",
    "print(val_sentences.shape)\n",
    "print(train_labels.shape)\n",
    "print(val_labels.shape)"
   ]
  },
  {
   "cell_type": "code",
   "execution_count": 18,
   "id": "8ad04cef",
   "metadata": {},
   "outputs": [],
   "source": [
    "# Tokenize and pad\n",
    "vocab_size = 10000\n",
    "oov_token = '<00V>'\n",
    "max_length = 120\n",
    "padding_type = 'post'\n",
    "trunc_type = 'post'\n",
    "embedding_dim = 16\n",
    "num_epochs = 10"
   ]
  },
  {
   "cell_type": "code",
   "execution_count": 19,
   "id": "0136fd90",
   "metadata": {},
   "outputs": [],
   "source": [
    "tokenizer = Tokenizer(num_words=vocab_size, oov_token=oov_token)\n",
    "tokenizer.fit_on_texts(train_sentences)\n",
    "word_index = tokenizer.word_index\n",
    "\n",
    "train_sequences = tokenizer.texts_to_sequences(train_sentences)\n",
    "train_padded = pad_sequences(train_sequences, maxlen=max_length, padding=padding_type, truncating=trunc_type)\n",
    "\n",
    "val_sequences = tokenizer.texts_to_sequences(val_sentences)\n",
    "val_padded = pad_sequences(val_sequences, maxlen=max_length, padding=padding_type, truncating=trunc_type)"
   ]
  },
  {
   "cell_type": "code",
   "execution_count": 20,
   "id": "20ceaf2a",
   "metadata": {},
   "outputs": [
    {
     "name": "stdout",
     "output_type": "stream",
     "text": [
      "Model: \"sequential\"\n",
      "_________________________________________________________________\n",
      "Layer (type)                 Output Shape              Param #   \n",
      "=================================================================\n",
      "embedding (Embedding)        (None, 120, 16)           160000    \n",
      "_________________________________________________________________\n",
      "global_average_pooling1d (Gl (None, 16)                0         \n",
      "_________________________________________________________________\n",
      "dense (Dense)                (None, 24)                408       \n",
      "_________________________________________________________________\n",
      "dense_1 (Dense)              (None, 1)                 25        \n",
      "=================================================================\n",
      "Total params: 160,433\n",
      "Trainable params: 160,433\n",
      "Non-trainable params: 0\n",
      "_________________________________________________________________\n",
      "Epoch 1/10\n",
      "716/716 - 1s - loss: 0.6698 - accuracy: 0.5878 - val_loss: 0.5705 - val_accuracy: 0.7979\n",
      "Epoch 2/10\n",
      "716/716 - 1s - loss: 0.4294 - accuracy: 0.8297 - val_loss: 0.3851 - val_accuracy: 0.8291\n",
      "Epoch 3/10\n",
      "716/716 - 1s - loss: 0.3199 - accuracy: 0.8724 - val_loss: 0.3540 - val_accuracy: 0.8419\n",
      "Epoch 4/10\n",
      "716/716 - 1s - loss: 0.2732 - accuracy: 0.8911 - val_loss: 0.3412 - val_accuracy: 0.8496\n",
      "Epoch 5/10\n",
      "716/716 - 1s - loss: 0.2393 - accuracy: 0.9073 - val_loss: 0.3506 - val_accuracy: 0.8442\n",
      "Epoch 6/10\n",
      "716/716 - 1s - loss: 0.2137 - accuracy: 0.9176 - val_loss: 0.3374 - val_accuracy: 0.8541\n",
      "Epoch 7/10\n",
      "716/716 - 1s - loss: 0.1942 - accuracy: 0.9266 - val_loss: 0.3438 - val_accuracy: 0.8522\n",
      "Epoch 8/10\n",
      "716/716 - 1s - loss: 0.1778 - accuracy: 0.9339 - val_loss: 0.3980 - val_accuracy: 0.8340\n",
      "Epoch 9/10\n",
      "716/716 - 1s - loss: 0.1627 - accuracy: 0.9385 - val_loss: 0.3864 - val_accuracy: 0.8407\n",
      "Epoch 10/10\n",
      "716/716 - 1s - loss: 0.1519 - accuracy: 0.9440 - val_loss: 0.3827 - val_accuracy: 0.8452\n"
     ]
    }
   ],
   "source": [
    "# Building the model\n",
    "\n",
    "# Flatten = converting multidimensional array to 1D-array\n",
    "# GlobalAveragePooling is used to better represent the vector by parsing the object\n",
    "# and pooling the data via an average or max value\n",
    "\n",
    "model = tf.keras.models.Sequential([\n",
    "    tf.keras.layers.Embedding(vocab_size, embedding_dim, input_length=max_length),\n",
    "    tf.keras.layers.GlobalAveragePooling1D(),\n",
    "    tf.keras.layers.Dense(24, activation='relu'),\n",
    "    tf.keras.layers.Dense(1, activation='sigmoid')\n",
    "])\n",
    "\n",
    "model.compile(loss='binary_crossentropy',optimizer='adam', metrics=['accuracy'])\n",
    "model.summary()\n",
    "history = model.fit(train_padded, \n",
    "                    train_labels, \n",
    "                    validation_data=(val_padded, val_labels), \n",
    "                    epochs=num_epochs, \n",
    "                    verbose=2)\n",
    "\n",
    "\n",
    "\n"
   ]
  },
  {
   "cell_type": "code",
   "execution_count": 21,
   "id": "f35351d8",
   "metadata": {},
   "outputs": [
    {
     "name": "stdout",
     "output_type": "stream",
     "text": [
      "Model: \"sequential_1\"\n",
      "_________________________________________________________________\n",
      "Layer (type)                 Output Shape              Param #   \n",
      "=================================================================\n",
      "embedding_1 (Embedding)      (None, 120, 16)           160000    \n",
      "_________________________________________________________________\n",
      "flatten (Flatten)            (None, 1920)              0         \n",
      "_________________________________________________________________\n",
      "dense_2 (Dense)              (None, 24)                46104     \n",
      "_________________________________________________________________\n",
      "dense_3 (Dense)              (None, 1)                 25        \n",
      "=================================================================\n",
      "Total params: 206,129\n",
      "Trainable params: 206,129\n",
      "Non-trainable params: 0\n",
      "_________________________________________________________________\n",
      "Epoch 1/10\n",
      "716/716 - 1s - loss: 0.4900 - accuracy: 0.7332 - val_loss: 0.3225 - val_accuracy: 0.8587\n",
      "Epoch 2/10\n",
      "716/716 - 1s - loss: 0.2288 - accuracy: 0.9077 - val_loss: 0.3063 - val_accuracy: 0.8684\n",
      "Epoch 3/10\n",
      "716/716 - 1s - loss: 0.1429 - accuracy: 0.9475 - val_loss: 0.3323 - val_accuracy: 0.8650\n",
      "Epoch 4/10\n",
      "716/716 - 1s - loss: 0.0839 - accuracy: 0.9744 - val_loss: 0.3817 - val_accuracy: 0.8599\n",
      "Epoch 5/10\n",
      "716/716 - 1s - loss: 0.0436 - accuracy: 0.9885 - val_loss: 0.4483 - val_accuracy: 0.8594\n",
      "Epoch 6/10\n",
      "716/716 - 1s - loss: 0.0200 - accuracy: 0.9963 - val_loss: 0.5159 - val_accuracy: 0.8571\n",
      "Epoch 7/10\n",
      "716/716 - 1s - loss: 0.0103 - accuracy: 0.9986 - val_loss: 0.5817 - val_accuracy: 0.8546\n",
      "Epoch 8/10\n",
      "716/716 - 1s - loss: 0.0056 - accuracy: 0.9993 - val_loss: 0.6252 - val_accuracy: 0.8548\n",
      "Epoch 9/10\n",
      "716/716 - 1s - loss: 0.0038 - accuracy: 0.9994 - val_loss: 0.6876 - val_accuracy: 0.8515\n",
      "Epoch 10/10\n",
      "716/716 - 1s - loss: 0.0023 - accuracy: 0.9995 - val_loss: 0.7264 - val_accuracy: 0.8541\n"
     ]
    }
   ],
   "source": [
    "# Flattening\n",
    "\n",
    "model2 = tf.keras.models.Sequential([\n",
    "    tf.keras.layers.Embedding(vocab_size, embedding_dim, input_length=max_length),\n",
    "    tf.keras.layers.Flatten(),\n",
    "    tf.keras.layers.Dense(24, activation='relu'),\n",
    "    tf.keras.layers.Dense(1, activation='sigmoid')\n",
    "])\n",
    "\n",
    "model2.compile(loss='binary_crossentropy',optimizer='adam', metrics=['accuracy'])\n",
    "model2.summary()\n",
    "history_flatten = model2.fit(train_padded, \n",
    "                    train_labels, \n",
    "                    validation_data=(val_padded, val_labels), \n",
    "                    epochs=num_epochs, \n",
    "                    verbose=2)"
   ]
  },
  {
   "cell_type": "code",
   "execution_count": 23,
   "id": "6ecd2526",
   "metadata": {},
   "outputs": [
    {
     "name": "stdout",
     "output_type": "stream",
     "text": [
      "Model: \"sequential_2\"\n",
      "_________________________________________________________________\n",
      "Layer (type)                 Output Shape              Param #   \n",
      "=================================================================\n",
      "embedding_2 (Embedding)      (None, 120, 16)           160000    \n",
      "_________________________________________________________________\n",
      "bidirectional (Bidirectional (None, 64)                12544     \n",
      "_________________________________________________________________\n",
      "dense_4 (Dense)              (None, 24)                1560      \n",
      "_________________________________________________________________\n",
      "dense_5 (Dense)              (None, 1)                 25        \n",
      "=================================================================\n",
      "Total params: 174,129\n",
      "Trainable params: 174,129\n",
      "Non-trainable params: 0\n",
      "_________________________________________________________________\n",
      "Epoch 1/10\n",
      "716/716 - 33s - loss: 0.4000 - accuracy: 0.8146 - val_loss: 0.3139 - val_accuracy: 0.8625\n",
      "Epoch 2/10\n",
      "716/716 - 29s - loss: 0.2085 - accuracy: 0.9165 - val_loss: 0.3261 - val_accuracy: 0.8623\n",
      "Epoch 3/10\n",
      "716/716 - 29s - loss: 0.1272 - accuracy: 0.9528 - val_loss: 0.3886 - val_accuracy: 0.8553\n",
      "Epoch 4/10\n",
      "716/716 - 29s - loss: 0.0813 - accuracy: 0.9723 - val_loss: 0.4841 - val_accuracy: 0.8484\n",
      "Epoch 5/10\n",
      "716/716 - 29s - loss: 0.0509 - accuracy: 0.9834 - val_loss: 0.5850 - val_accuracy: 0.8503\n",
      "Epoch 6/10\n",
      "716/716 - 29s - loss: 0.0365 - accuracy: 0.9887 - val_loss: 0.6110 - val_accuracy: 0.8382\n",
      "Epoch 7/10\n",
      "716/716 - 29s - loss: 0.0242 - accuracy: 0.9924 - val_loss: 0.7725 - val_accuracy: 0.8407\n",
      "Epoch 8/10\n",
      "716/716 - 29s - loss: 0.0184 - accuracy: 0.9939 - val_loss: 0.8471 - val_accuracy: 0.8377\n",
      "Epoch 9/10\n",
      "716/716 - 29s - loss: 0.0166 - accuracy: 0.9945 - val_loss: 0.8319 - val_accuracy: 0.8337\n",
      "Epoch 10/10\n",
      "716/716 - 29s - loss: 0.0120 - accuracy: 0.9965 - val_loss: 1.1225 - val_accuracy: 0.8318\n"
     ]
    }
   ],
   "source": [
    "# Long Short-Term Memory (LSTM)\n",
    "\n",
    "model_lstm = tf.keras.models.Sequential([\n",
    "    tf.keras.layers.Embedding(vocab_size, embedding_dim, input_length=max_length),\n",
    "    tf.keras.layers.Bidirectional(tf.keras.layers.LSTM(32)),\n",
    "    tf.keras.layers.Dense(24, activation='relu'),\n",
    "    tf.keras.layers.Dense(1, activation='sigmoid')\n",
    "])\n",
    "\n",
    "model_lstm.compile(loss='binary_crossentropy',optimizer='adam', metrics=['accuracy'])\n",
    "model_lstm.summary()\n",
    "history_lstm = model_lstm.fit(train_padded, \n",
    "                    train_labels, \n",
    "                    validation_data=(val_padded, val_labels), \n",
    "                    epochs=num_epochs, \n",
    "                    verbose=2)"
   ]
  },
  {
   "cell_type": "code",
   "execution_count": 24,
   "id": "1fcd7fe4",
   "metadata": {},
   "outputs": [
    {
     "name": "stdout",
     "output_type": "stream",
     "text": [
      "Model: \"sequential_3\"\n",
      "_________________________________________________________________\n",
      "Layer (type)                 Output Shape              Param #   \n",
      "=================================================================\n",
      "embedding_3 (Embedding)      (None, 120, 16)           160000    \n",
      "_________________________________________________________________\n",
      "bidirectional_1 (Bidirection (None, 120, 128)          41472     \n",
      "_________________________________________________________________\n",
      "bidirectional_2 (Bidirection (None, 64)                41216     \n",
      "_________________________________________________________________\n",
      "dense_6 (Dense)              (None, 24)                1560      \n",
      "_________________________________________________________________\n",
      "dense_7 (Dense)              (None, 1)                 25        \n",
      "=================================================================\n",
      "Total params: 244,273\n",
      "Trainable params: 244,273\n",
      "Non-trainable params: 0\n",
      "_________________________________________________________________\n",
      "Epoch 1/10\n",
      "716/716 - 70s - loss: 0.3966 - accuracy: 0.8108 - val_loss: 0.3231 - val_accuracy: 0.8599\n",
      "Epoch 2/10\n",
      "716/716 - 63s - loss: 0.2279 - accuracy: 0.9087 - val_loss: 0.3258 - val_accuracy: 0.8585\n",
      "Epoch 3/10\n",
      "716/716 - 63s - loss: 0.1512 - accuracy: 0.9424 - val_loss: 0.3691 - val_accuracy: 0.8581\n",
      "Epoch 4/10\n",
      "716/716 - 64s - loss: 0.0938 - accuracy: 0.9669 - val_loss: 0.4568 - val_accuracy: 0.8503\n",
      "Epoch 5/10\n",
      "716/716 - 63s - loss: 0.0597 - accuracy: 0.9796 - val_loss: 0.5517 - val_accuracy: 0.8494\n",
      "Epoch 6/10\n",
      "716/716 - 63s - loss: 0.0411 - accuracy: 0.9865 - val_loss: 0.6245 - val_accuracy: 0.8358\n",
      "Epoch 7/10\n",
      "716/716 - 63s - loss: 0.0314 - accuracy: 0.9893 - val_loss: 0.7296 - val_accuracy: 0.8379\n",
      "Epoch 8/10\n",
      "716/716 - 63s - loss: 0.0179 - accuracy: 0.9938 - val_loss: 0.8758 - val_accuracy: 0.8328\n",
      "Epoch 9/10\n",
      "716/716 - 63s - loss: 0.0120 - accuracy: 0.9962 - val_loss: 0.9027 - val_accuracy: 0.8218\n",
      "Epoch 10/10\n",
      "716/716 - 63s - loss: 0.0121 - accuracy: 0.9958 - val_loss: 0.8857 - val_accuracy: 0.8367\n"
     ]
    }
   ],
   "source": [
    "# Multilayer LSTM\n",
    "\n",
    "model_mul_lstm = tf.keras.models.Sequential([\n",
    "    tf.keras.layers.Embedding(vocab_size, embedding_dim, input_length=max_length),\n",
    "    tf.keras.layers.Bidirectional(tf.keras.layers.LSTM(64, return_sequences=True)),\n",
    "    tf.keras.layers.Bidirectional(tf.keras.layers.LSTM(32)),\n",
    "    tf.keras.layers.Dense(24, activation='relu'),\n",
    "    tf.keras.layers.Dense(1, activation='sigmoid')\n",
    "])\n",
    "\n",
    "model_mul_lstm.compile(loss='binary_crossentropy',optimizer='adam', metrics=['accuracy'])\n",
    "model_mul_lstm.summary()\n",
    "history_mul_lstm = model_mul_lstm.fit(train_padded, \n",
    "                    train_labels, \n",
    "                    validation_data=(val_padded, val_labels), \n",
    "                    epochs=num_epochs, \n",
    "                    verbose=2)"
   ]
  },
  {
   "cell_type": "code",
   "execution_count": null,
   "id": "0c4ec8d8",
   "metadata": {},
   "outputs": [],
   "source": [
    "# Reference: https://www.kaggle.com/mertyldrr/stacked-lstm-tensorflow-2-beginner "
   ]
  }
 ],
 "metadata": {
  "kernelspec": {
   "display_name": "Python 3 (ipykernel)",
   "language": "python",
   "name": "python3"
  },
  "language_info": {
   "codemirror_mode": {
    "name": "ipython",
    "version": 3
   },
   "file_extension": ".py",
   "mimetype": "text/x-python",
   "name": "python",
   "nbconvert_exporter": "python",
   "pygments_lexer": "ipython3",
   "version": "3.9.6"
  }
 },
 "nbformat": 4,
 "nbformat_minor": 5
}
